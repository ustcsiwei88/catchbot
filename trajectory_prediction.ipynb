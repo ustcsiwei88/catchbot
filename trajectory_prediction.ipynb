{
 "cells": [
  {
   "cell_type": "code",
   "execution_count": 1,
   "metadata": {},
   "outputs": [],
   "source": [
    "import torch as th\n",
    "import numpy as np\n",
    "import matplotlib.pyplot as plt\n",
    "import random as rd\n",
    "import torch.nn.functional as F "
   ]
  },
  {
   "cell_type": "markdown",
   "metadata": {},
   "source": [
    "# Parameters"
   ]
  },
  {
   "cell_type": "code",
   "execution_count": 2,
   "metadata": {},
   "outputs": [],
   "source": [
    "alpha = 0.01                        # parameter of air friction\n",
    "g = 9.8                             # gravity acceleration\n",
    "\n",
    "n = 100                             # generate n trajectories for training\n",
    "\n",
    "learning_rate = 0.02\n",
    "\n",
    "t = np.linspace(0,1, 10001)         \n",
    "dt = 0.0001\n",
    "\n",
    "x_np_M=0                           \n",
    "y_np_M=0\n",
    "z_np_M=0\n",
    "vx_np_M=0\n",
    "vy_np_M=0\n",
    "vz_np_M=0\n",
    "ax_np_M=0\n",
    "ay_np_M=0\n",
    "az_np_M=0"
   ]
  },
  {
   "cell_type": "markdown",
   "metadata": {},
   "source": [
    "# Generate training data"
   ]
  },
  {
   "cell_type": "code",
   "execution_count": 3,
   "metadata": {},
   "outputs": [],
   "source": [
    "for i in range(n):\n",
    "    x = [rd.uniform(-2,2)]\n",
    "    y = [rd.uniform(-2,2)]\n",
    "    z = [rd.uniform(1,2)]\n",
    "    vx = [rd.uniform(7,11)]\n",
    "    vy = [rd.uniform(-2,2)]\n",
    "    vz = [rd.uniform(3,6)]\n",
    "    ax = []\n",
    "    ay = []\n",
    "    az = []\n",
    "    for step in t:\n",
    "        v = np.sqrt(vx[-1]*vx[-1] + vy[-1]*vy[-1] + vz[-1]*vz[-1])\n",
    "        ax.append(-alpha*v*vx[-1])\n",
    "        ay.append(-alpha*v*vy[-1])\n",
    "        az.append(-g - alpha*v*vz[-1])\n",
    "\n",
    "        if step == 1:\n",
    "            break\n",
    "            \n",
    "        x.append(x[-1] + vx[-1]*dt)\n",
    "        y.append(y[-1] + vy[-1]*dt)\n",
    "        z.append(z[-1] + vz[-1]*dt)\n",
    "\n",
    "        vx.append(vx[-1] + ax[-1]*dt)\n",
    "        vy.append(vy[-1] + ay[-1]*dt)\n",
    "        vz.append(vz[-1] + az[-1]*dt)\n",
    "        \n",
    "    x_np = np.asarray(x)\n",
    "    y_np = np.asarray(y)\n",
    "    z_np = np.asarray(z)\n",
    "    vx_np = np.asarray(vx)\n",
    "    vy_np = np.asarray(vy)\n",
    "    vz_np = np.asarray(vz)\n",
    "    ax_np = np.asarray(ax)\n",
    "    ay_np = np.asarray(ay)\n",
    "    az_np = np.asarray(az)    \n",
    "    \n",
    "    global x_np_M, y_np_M, z_np_M, vx_np_M, vy_np_M, vz_np_M, ax_np_M, ay_np_M, az_np_M\n",
    "\n",
    "    if isinstance(x_np_M,int):\n",
    "        x_np_M = x_np\n",
    "        y_np_M = y_np\n",
    "        z_np_M = z_np\n",
    "        vx_np_M = vx_np\n",
    "        vy_np_M = vy_np\n",
    "        vz_np_M = vz_np\n",
    "        ax_np_M = ax_np\n",
    "        ay_np_M = ay_np\n",
    "        az_np_M = az_np\n",
    "    else:\n",
    "        x_np_M = np.vstack((x_np_M, x_np))\n",
    "        y_np_M = np.vstack((y_np_M, y_np))\n",
    "        z_np_M = np.vstack((z_np_M, z_np))\n",
    "        vx_np_M = np.vstack((vx_np_M, vx_np))\n",
    "        vy_np_M = np.vstack((vy_np_M, vy_np))\n",
    "        vz_np_M = np.vstack((vz_np_M, vz_np))\n",
    "        ax_np_M = np.vstack((ax_np_M, ax_np))\n",
    "        ay_np_M = np.vstack((ay_np_M, ay_np))\n",
    "        az_np_M = np.vstack((az_np_M, az_np))"
   ]
  },
  {
   "cell_type": "markdown",
   "metadata": {},
   "source": [
    "### Convert shape of training data"
   ]
  },
  {
   "cell_type": "code",
   "execution_count": 4,
   "metadata": {},
   "outputs": [],
   "source": [
    "s = np.linspace(0, 10000, 101)\n",
    "input_np_M = 0\n",
    "output_np_M = 0\n",
    "for i in range(100):\n",
    "    for j in s:\n",
    "        j = int(j)\n",
    "        input_ = [x_np_M[i][j], y_np_M[i][j], z_np_M[i][j], vx_np_M[i][j], vy_np_M[i][j], vz_np_M[i][j]]\n",
    "        input_np = np.asarray(input_)\n",
    "        \n",
    "        output_ = [ax_np_M[i][j], ay_np_M[i][j], az_np_M[i][j]]\n",
    "        output_np = np.asarray(output_)\n",
    "        \n",
    "        global input_np_M, output_np_M\n",
    "        if isinstance(input_np_M, int):\n",
    "            input_np_M = input_\n",
    "            output_np_M = output_\n",
    "        else:\n",
    "            input_np_M = np.vstack((input_np_M, input_))\n",
    "            output_np_M = np.vstack((output_np_M, output_))"
   ]
  },
  {
   "cell_type": "markdown",
   "metadata": {},
   "source": [
    "### Shape of training data"
   ]
  },
  {
   "cell_type": "code",
   "execution_count": 5,
   "metadata": {},
   "outputs": [
    {
     "name": "stdout",
     "output_type": "stream",
     "text": [
      "(100, 10001)\n",
      "(10100, 6)\n",
      "(10100, 3)\n"
     ]
    }
   ],
   "source": [
    "print(np.shape(x_np_M))\n",
    "print(np.shape(input_np_M))\n",
    "print(np.shape(output_np_M))"
   ]
  },
  {
   "cell_type": "markdown",
   "metadata": {},
   "source": [
    "# Model training & test\n",
    "### Defination of neural network"
   ]
  },
  {
   "cell_type": "code",
   "execution_count": 6,
   "metadata": {},
   "outputs": [],
   "source": [
    "class Network(th.nn.Module):\n",
    "    def __init__(self, n_input, n_hidden_1, n_hidden_2, n_output):\n",
    "        super(Network, self).__init__()\n",
    "        \n",
    "        self.bn_input = th.nn.BatchNorm1d(n_input, momentum=0.5)\n",
    "        self.hidden_1 = th.nn.Linear(n_input, n_hidden_1)\n",
    "        self.bn_1 = th.nn.BatchNorm1d(n_hidden_1, momentum=0.5)\n",
    "        self.hidden_2 = th.nn.Linear(n_hidden_1, n_hidden_2)\n",
    "        self.bn_2 = th.nn.BatchNorm1d(n_hidden_2, momentum=0.5)\n",
    "        self.predict = th.nn.Linear(n_hidden_2, n_output)   \n",
    "\n",
    "    def forward(self, x):   \n",
    "        x = self.bn_input(x)\n",
    "        x = self.hidden_1(x)\n",
    "        x = th.tanh(self.bn_1(x))\n",
    "        \n",
    "        x = self.hidden_2(x)\n",
    "        x = th.tanh(self.bn_2(x))\n",
    "        x = self.predict(x)             \n",
    "        return x"
   ]
  },
  {
   "cell_type": "markdown",
   "metadata": {},
   "source": [
    "### Training NN"
   ]
  },
  {
   "cell_type": "code",
   "execution_count": 7,
   "metadata": {
    "scrolled": true
   },
   "outputs": [
    {
     "name": "stdout",
     "output_type": "stream",
     "text": [
      "Network(\n",
      "  (bn_input): BatchNorm1d(6, eps=1e-05, momentum=0.5, affine=True, track_running_stats=True)\n",
      "  (hidden_1): Linear(in_features=6, out_features=64, bias=True)\n",
      "  (bn_1): BatchNorm1d(64, eps=1e-05, momentum=0.5, affine=True, track_running_stats=True)\n",
      "  (hidden_2): Linear(in_features=64, out_features=64, bias=True)\n",
      "  (bn_2): BatchNorm1d(64, eps=1e-05, momentum=0.5, affine=True, track_running_stats=True)\n",
      "  (predict): Linear(in_features=64, out_features=3, bias=True)\n",
      ")\n"
     ]
    }
   ],
   "source": [
    "predictor = Network(n_input=6, n_hidden_1=64, n_hidden_2 = 64, n_output=3)\n",
    "\n",
    "print(predictor)"
   ]
  },
  {
   "cell_type": "code",
   "execution_count": 8,
   "metadata": {},
   "outputs": [
    {
     "data": {
      "image/png": "[encoded data removed]",
      "text/plain": [
       "<matplotlib.figure.Figure at 0x2bd04d82048>"
      ]
     },
     "metadata": {
      "needs_background": "light"
     },
     "output_type": "display_data"
    }
   ],
   "source": [
    "input_T = th.from_numpy(input_np_M)\n",
    "output_T = th.from_numpy(output_np_M)\n",
    "\n",
    "optimizer = th.optim.Adam(predictor.parameters(), lr=learning_rate, betas=(0.9, 0.99))\n",
    "loss_func = th.nn.MSELoss()      \n",
    "\n",
    "loss_his = []\n",
    "\n",
    "for i in range(100):\n",
    "    prediction = predictor(input_T.float())     \n",
    "    loss = loss_func(prediction, output_T.float())     \n",
    "    \n",
    "    optimizer.zero_grad()   \n",
    "    loss.backward()         \n",
    "    optimizer.step()   \n",
    "    \n",
    "    loss_his.append(loss.data.numpy())\n",
    "plt.figure()\n",
    "plt.plot(range(100),loss_his)\n",
    "plt.show()"
   ]
  },
  {
   "cell_type": "code",
   "execution_count": 9,
   "metadata": {},
   "outputs": [
    {
     "name": "stdout",
     "output_type": "stream",
     "text": [
      "0.003208533860743046\n"
     ]
    }
   ],
   "source": [
    "print(loss_his[-1])"
   ]
  },
  {
   "cell_type": "markdown",
   "metadata": {},
   "source": [
    "### Test model"
   ]
  },
  {
   "cell_type": "code",
   "execution_count": 15,
   "metadata": {},
   "outputs": [],
   "source": [
    "# init arrays for predicting trajectory\n",
    "x_predict = [x_np_M[1][0]]\n",
    "y_predict = [y_np_M[1][0]]\n",
    "z_predict = [z_np_M[1][0]]\n",
    "vx_predict = [vx_np_M[1][0]]\n",
    "vy_predict = [vy_np_M[1][0]]\n",
    "vz_predict = [vz_np_M[1][0]]\n",
    "ax_predict = []\n",
    "ay_predict = []\n",
    "az_predict = []\n",
    "predictor.eval()\n",
    "in_test = th.FloatTensor(1,6).zero_()"
   ]
  },
  {
   "cell_type": "code",
   "execution_count": 16,
   "metadata": {},
   "outputs": [],
   "source": [
    "# Iteratively predict trajectory\n",
    "for step in t:\n",
    "    in_test[0][0] = x_predict[-1]\n",
    "    in_test[0][1] = y_predict[-1]\n",
    "    in_test[0][2] = z_predict[-1]\n",
    "    in_test[0][3] = vx_predict[-1]\n",
    "    in_test[0][4] = vy_predict[-1]\n",
    "    in_test[0][5] = vz_predict[-1]\n",
    "    a = predictor(in_test)\n",
    "    \n",
    "    ax_predict.append(a.data.numpy()[0][0])\n",
    "    ay_predict.append(a.data.numpy()[0][1])\n",
    "    az_predict.append(a.data.numpy()[0][2])\n",
    "\n",
    "    if step == 1:\n",
    "        break\n",
    "\n",
    "    x_predict.append(x_predict[-1] + vx_predict[-1]*dt)\n",
    "    y_predict.append(y_predict[-1] + vy_predict[-1]*dt)\n",
    "    z_predict.append(z_predict[-1] + vz_predict[-1]*dt)\n",
    "\n",
    "    vx_predict.append(vx_predict[-1] + ax_predict[-1]*dt)\n",
    "    vy_predict.append(vy_predict[-1] + ay_predict[-1]*dt)\n",
    "    vz_predict.append(vz_predict[-1] + az_predict[-1]*dt)"
   ]
  },
  {
   "cell_type": "code",
   "execution_count": 17,
   "metadata": {},
   "outputs": [
    {
     "data": {
      "image/png": "[encoded data removed]",
      "text/plain": [
       "<matplotlib.figure.Figure at 0x2bd04d8d9e8>"
      ]
     },
     "metadata": {
      "needs_background": "light"
     },
     "output_type": "display_data"
    },
    {
     "name": "stdout",
     "output_type": "stream",
     "text": [
      "1.29275588669\n"
     ]
    }
   ],
   "source": [
    "# plost x-t\n",
    "plt.figure()\n",
    "plt.plot(t, x_np_M[1])\n",
    "plt.plot(t, x_predict)\n",
    "plt.xlabel('t/s')\n",
    "plt.ylabel('x/m')\n",
    "plt.show()\n",
    "print(x_np_M[0][10000] - x_predict[10000])"
   ]
  },
  {
   "cell_type": "code",
   "execution_count": 19,
   "metadata": {},
   "outputs": [
    {
     "data": {
      "image/png": "[encoded data removed]",
      "text/plain": [
       "<matplotlib.figure.Figure at 0x2bd06b3f588>"
      ]
     },
     "metadata": {
      "needs_background": "light"
     },
     "output_type": "display_data"
    },
    {
     "name": "stdout",
     "output_type": "stream",
     "text": [
      "-0.0112306161264\n"
     ]
    }
   ],
   "source": [
    "# plot y-t\n",
    "plt.figure()\n",
    "plt.plot(t, y_np_M[1])\n",
    "plt.plot(t, y_predict)\n",
    "plt.xlabel('t/s')\n",
    "plt.ylabel('y/m')\n",
    "plt.show()\n",
    "print(y_np_M[1][10000] - y_predict[10000])"
   ]
  },
  {
   "cell_type": "code",
   "execution_count": 20,
   "metadata": {},
   "outputs": [
    {
     "data": {
      "image/png": "[encoded data removed]",
      "text/plain": [
       "<matplotlib.figure.Figure at 0x2bd06b8ecc0>"
      ]
     },
     "metadata": {
      "needs_background": "light"
     },
     "output_type": "display_data"
    },
    {
     "name": "stdout",
     "output_type": "stream",
     "text": [
      "0.00202918749516\n"
     ]
    }
   ],
   "source": [
    "# plot z-t\n",
    "plt.figure()\n",
    "plt.plot(t, z_np_M[1])\n",
    "plt.plot(t, z_predict)\n",
    "plt.xlabel('t/s')\n",
    "plt.ylabel('z/m')\n",
    "plt.show()\n",
    "print(z_np_M[1][10000] - z_predict[10000])"
   ]
  }
 ],
 "metadata": {
  "kernelspec": {
   "display_name": "Python 3",
   "language": "python",
   "name": "python3"
  },
  "language_info": {
   "codemirror_mode": {
    "name": "ipython",
    "version": 3
   },
   "file_extension": ".py",
   "mimetype": "text/x-python",
   "name": "python",
   "nbconvert_exporter": "python",
   "pygments_lexer": "ipython3",
   "version": "3.6.4"
  }
 },
 "nbformat": 4,
 "nbformat_minor": 2
}
